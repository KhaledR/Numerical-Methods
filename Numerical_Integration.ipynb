{
  "nbformat": 4,
  "nbformat_minor": 0,
  "metadata": {
    "colab": {
      "name": "Numerical Integration",
      "provenance": [],
      "authorship_tag": "ABX9TyM8Ohm0eeFu2AmOjR4ElWGI",
      "include_colab_link": true
    },
    "kernelspec": {
      "name": "python3",
      "display_name": "Python 3"
    },
    "language_info": {
      "name": "python"
    }
  },
  "cells": [
    {
      "cell_type": "markdown",
      "metadata": {
        "id": "view-in-github",
        "colab_type": "text"
      },
      "source": [
        "<a href=\"https://colab.research.google.com/github/KhaledR/Numerical-Methods-58012/blob/main/Numerical_Integration.ipynb\" target=\"_parent\"><img src=\"https://colab.research.google.com/assets/colab-badge.svg\" alt=\"Open In Colab\"/></a>"
      ]
    },
    {
      "cell_type": "code",
      "execution_count": 2,
      "metadata": {
        "colab": {
          "base_uri": "https://localhost:8080/"
        },
        "id": "qHNSgLWWH7yk",
        "outputId": "a32fb379-9a85-4e90-b7ee-53bd31248f4b"
      },
      "outputs": [
        {
          "output_type": "stream",
          "name": "stdout",
          "text": [
            "Integral = -0.150232\n"
          ]
        }
      ],
      "source": [
        "from math import sin\n",
        "def f(x): return sin(x)\n",
        "a=0.6\n",
        "b=0\n",
        "n=8\n",
        "h= (b-a)/n\n",
        "S=h*(f(a)+f(b))\n",
        "for i in range(1,n):\n",
        "    S = S+f(a+i*h)\n",
        "Integral=h*S\n",
        "print('Integral = %f' %Integral)"
      ]
    }
  ]
}