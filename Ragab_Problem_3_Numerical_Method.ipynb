{
  "nbformat": 4,
  "nbformat_minor": 0,
  "metadata": {
    "colab": {
      "name": "Ragab Problem 3 Numerical Method",
      "provenance": [],
      "authorship_tag": "ABX9TyPXroyZifQ0alY4p0III3E3",
      "include_colab_link": true
    },
    "kernelspec": {
      "name": "python3",
      "display_name": "Python 3"
    },
    "language_info": {
      "name": "python"
    }
  },
  "cells": [
    {
      "cell_type": "markdown",
      "metadata": {
        "id": "view-in-github",
        "colab_type": "text"
      },
      "source": [
        "<a href=\"https://colab.research.google.com/github/KhaledR/Numerical-Methods-58012/blob/main/Ragab_Problem_3_Numerical_Method.ipynb\" target=\"_parent\"><img src=\"https://colab.research.google.com/assets/colab-badge.svg\" alt=\"Open In Colab\"/></a>"
      ]
    },
    {
      "cell_type": "code",
      "execution_count": 2,
      "metadata": {
        "colab": {
          "base_uri": "https://localhost:8080/"
        },
        "id": "HUI8f7ZXzYXq",
        "outputId": "012122d8-9978-4d58-d594-cf22466e8e0a"
      },
      "outputs": [
        {
          "output_type": "stream",
          "name": "stdout",
          "text": [
            "Integral = -0.391433\n"
          ]
        }
      ],
      "source": [
        "from math import e\n",
        "def f(x): return e*(x)\n",
        "a=0.6\n",
        "b=0\n",
        "h= (b-a)\n",
        "S=h*(f(a)+f(b))\n",
        "for i in range(1):\n",
        "    S = S+f(a+i*h)\n",
        "Integral=h*S\n",
        "print('Integral = %f' %Integral)"
      ]
    }
  ]
}