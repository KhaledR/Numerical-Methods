{
  "nbformat": 4,
  "nbformat_minor": 0,
  "metadata": {
    "colab": {
      "name": "Ragab Problem 3 Numerical Method",
      "provenance": [],
      "authorship_tag": "ABX9TyNFBWeVYS/m7r9rCJh7pm9E",
      "include_colab_link": true
    },
    "kernelspec": {
      "name": "python3",
      "display_name": "Python 3"
    },
    "language_info": {
      "name": "python"
    }
  },
  "cells": [
    {
      "cell_type": "markdown",
      "metadata": {
        "id": "view-in-github",
        "colab_type": "text"
      },
      "source": [
        "<a href=\"https://colab.research.google.com/github/KhaledR/Numerical-Methods-58012/blob/main/Ragab_Problem_3_Numerical_Method.ipynb\" target=\"_parent\"><img src=\"https://colab.research.google.com/assets/colab-badge.svg\" alt=\"Open In Colab\"/></a>"
      ]
    },
    {
      "cell_type": "code",
      "execution_count": 3,
      "metadata": {
        "colab": {
          "base_uri": "https://localhost:8080/"
        },
        "id": "HUI8f7ZXzYXq",
        "outputId": "3ef70251-5dfe-4def-9c4e-11a3af878682"
      },
      "outputs": [
        {
          "output_type": "stream",
          "name": "stdout",
          "text": [
            "Integral = -5.436564\n"
          ]
        }
      ],
      "source": [
        "from math import e\n",
        "def f(x): return e*(x)\n",
        "a=1\n",
        "b=-1\n",
        "h= (b-a)\n",
        "S=h*(f(a)+f(b))\n",
        "for i in range(1):\n",
        "    S = S+f(a+i*h)\n",
        "Integral=h*S\n",
        "print('Integral = %f' %Integral)"
      ]
    }
  ]
}